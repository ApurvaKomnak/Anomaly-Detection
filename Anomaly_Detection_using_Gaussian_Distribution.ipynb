{
  "cells": [
    {
      "cell_type": "code",
      "execution_count": 3,
      "metadata": {
        "id": "aiwNZcGy3wqU"
      },
      "outputs": [],
      "source": [
        "import matplotlib.pyplot as plt\n",
        "import numpy as np\n",
        "import pandas as pd\n",
        "import numpy as np\n",
        "from sklearn.metrics import confusion_matrix\n",
        "from scipy.stats import multivariate_normal\n",
        "from sklearn.metrics import f1_score\n",
        "from sklearn.metrics import recall_score , average_precision_score\n",
        "from sklearn.metrics import precision_score, precision_recall_curve\n"
      ]
    },
    {
      "cell_type": "code",
      "execution_count": 4,
      "metadata": {
        "colab": {
          "base_uri": "https://localhost:8080/",
          "height": 299
        },
        "id": "9umnSFiH3zQS",
        "outputId": "caf473e1-57d9-4941-d994-09884a0ee91d"
      },
      "outputs": [
        {
          "data": {
            "text/html": [
              "<div>\n",
              "<style scoped>\n",
              "    .dataframe tbody tr th:only-of-type {\n",
              "        vertical-align: middle;\n",
              "    }\n",
              "\n",
              "    .dataframe tbody tr th {\n",
              "        vertical-align: top;\n",
              "    }\n",
              "\n",
              "    .dataframe thead th {\n",
              "        text-align: right;\n",
              "    }\n",
              "</style>\n",
              "<table border=\"1\" class=\"dataframe\">\n",
              "  <thead>\n",
              "    <tr style=\"text-align: right;\">\n",
              "      <th></th>\n",
              "      <th>Time</th>\n",
              "      <th>V1</th>\n",
              "      <th>V2</th>\n",
              "      <th>V3</th>\n",
              "      <th>V4</th>\n",
              "      <th>V5</th>\n",
              "      <th>V6</th>\n",
              "      <th>V7</th>\n",
              "      <th>V8</th>\n",
              "      <th>V9</th>\n",
              "      <th>...</th>\n",
              "      <th>V21</th>\n",
              "      <th>V22</th>\n",
              "      <th>V23</th>\n",
              "      <th>V24</th>\n",
              "      <th>V25</th>\n",
              "      <th>V26</th>\n",
              "      <th>V27</th>\n",
              "      <th>V28</th>\n",
              "      <th>Amount</th>\n",
              "      <th>Class</th>\n",
              "    </tr>\n",
              "  </thead>\n",
              "  <tbody>\n",
              "    <tr>\n",
              "      <th>0</th>\n",
              "      <td>0.0</td>\n",
              "      <td>-1.359807</td>\n",
              "      <td>-0.072781</td>\n",
              "      <td>2.536347</td>\n",
              "      <td>1.378155</td>\n",
              "      <td>-0.338321</td>\n",
              "      <td>0.462388</td>\n",
              "      <td>0.239599</td>\n",
              "      <td>0.098698</td>\n",
              "      <td>0.363787</td>\n",
              "      <td>...</td>\n",
              "      <td>-0.018307</td>\n",
              "      <td>0.277838</td>\n",
              "      <td>-0.110474</td>\n",
              "      <td>0.066928</td>\n",
              "      <td>0.128539</td>\n",
              "      <td>-0.189115</td>\n",
              "      <td>0.133558</td>\n",
              "      <td>-0.021053</td>\n",
              "      <td>149.62</td>\n",
              "      <td>0</td>\n",
              "    </tr>\n",
              "    <tr>\n",
              "      <th>1</th>\n",
              "      <td>0.0</td>\n",
              "      <td>1.191857</td>\n",
              "      <td>0.266151</td>\n",
              "      <td>0.166480</td>\n",
              "      <td>0.448154</td>\n",
              "      <td>0.060018</td>\n",
              "      <td>-0.082361</td>\n",
              "      <td>-0.078803</td>\n",
              "      <td>0.085102</td>\n",
              "      <td>-0.255425</td>\n",
              "      <td>...</td>\n",
              "      <td>-0.225775</td>\n",
              "      <td>-0.638672</td>\n",
              "      <td>0.101288</td>\n",
              "      <td>-0.339846</td>\n",
              "      <td>0.167170</td>\n",
              "      <td>0.125895</td>\n",
              "      <td>-0.008983</td>\n",
              "      <td>0.014724</td>\n",
              "      <td>2.69</td>\n",
              "      <td>0</td>\n",
              "    </tr>\n",
              "    <tr>\n",
              "      <th>2</th>\n",
              "      <td>1.0</td>\n",
              "      <td>-1.358354</td>\n",
              "      <td>-1.340163</td>\n",
              "      <td>1.773209</td>\n",
              "      <td>0.379780</td>\n",
              "      <td>-0.503198</td>\n",
              "      <td>1.800499</td>\n",
              "      <td>0.791461</td>\n",
              "      <td>0.247676</td>\n",
              "      <td>-1.514654</td>\n",
              "      <td>...</td>\n",
              "      <td>0.247998</td>\n",
              "      <td>0.771679</td>\n",
              "      <td>0.909412</td>\n",
              "      <td>-0.689281</td>\n",
              "      <td>-0.327642</td>\n",
              "      <td>-0.139097</td>\n",
              "      <td>-0.055353</td>\n",
              "      <td>-0.059752</td>\n",
              "      <td>378.66</td>\n",
              "      <td>0</td>\n",
              "    </tr>\n",
              "    <tr>\n",
              "      <th>3</th>\n",
              "      <td>1.0</td>\n",
              "      <td>-0.966272</td>\n",
              "      <td>-0.185226</td>\n",
              "      <td>1.792993</td>\n",
              "      <td>-0.863291</td>\n",
              "      <td>-0.010309</td>\n",
              "      <td>1.247203</td>\n",
              "      <td>0.237609</td>\n",
              "      <td>0.377436</td>\n",
              "      <td>-1.387024</td>\n",
              "      <td>...</td>\n",
              "      <td>-0.108300</td>\n",
              "      <td>0.005274</td>\n",
              "      <td>-0.190321</td>\n",
              "      <td>-1.175575</td>\n",
              "      <td>0.647376</td>\n",
              "      <td>-0.221929</td>\n",
              "      <td>0.062723</td>\n",
              "      <td>0.061458</td>\n",
              "      <td>123.50</td>\n",
              "      <td>0</td>\n",
              "    </tr>\n",
              "    <tr>\n",
              "      <th>4</th>\n",
              "      <td>2.0</td>\n",
              "      <td>-1.158233</td>\n",
              "      <td>0.877737</td>\n",
              "      <td>1.548718</td>\n",
              "      <td>0.403034</td>\n",
              "      <td>-0.407193</td>\n",
              "      <td>0.095921</td>\n",
              "      <td>0.592941</td>\n",
              "      <td>-0.270533</td>\n",
              "      <td>0.817739</td>\n",
              "      <td>...</td>\n",
              "      <td>-0.009431</td>\n",
              "      <td>0.798278</td>\n",
              "      <td>-0.137458</td>\n",
              "      <td>0.141267</td>\n",
              "      <td>-0.206010</td>\n",
              "      <td>0.502292</td>\n",
              "      <td>0.219422</td>\n",
              "      <td>0.215153</td>\n",
              "      <td>69.99</td>\n",
              "      <td>0</td>\n",
              "    </tr>\n",
              "  </tbody>\n",
              "</table>\n",
              "<p>5 rows × 31 columns</p>\n",
              "</div>"
            ],
            "text/plain": [
              "   Time        V1        V2        V3        V4        V5        V6        V7  \\\n",
              "0   0.0 -1.359807 -0.072781  2.536347  1.378155 -0.338321  0.462388  0.239599   \n",
              "1   0.0  1.191857  0.266151  0.166480  0.448154  0.060018 -0.082361 -0.078803   \n",
              "2   1.0 -1.358354 -1.340163  1.773209  0.379780 -0.503198  1.800499  0.791461   \n",
              "3   1.0 -0.966272 -0.185226  1.792993 -0.863291 -0.010309  1.247203  0.237609   \n",
              "4   2.0 -1.158233  0.877737  1.548718  0.403034 -0.407193  0.095921  0.592941   \n",
              "\n",
              "         V8        V9  ...       V21       V22       V23       V24       V25  \\\n",
              "0  0.098698  0.363787  ... -0.018307  0.277838 -0.110474  0.066928  0.128539   \n",
              "1  0.085102 -0.255425  ... -0.225775 -0.638672  0.101288 -0.339846  0.167170   \n",
              "2  0.247676 -1.514654  ...  0.247998  0.771679  0.909412 -0.689281 -0.327642   \n",
              "3  0.377436 -1.387024  ... -0.108300  0.005274 -0.190321 -1.175575  0.647376   \n",
              "4 -0.270533  0.817739  ... -0.009431  0.798278 -0.137458  0.141267 -0.206010   \n",
              "\n",
              "        V26       V27       V28  Amount  Class  \n",
              "0 -0.189115  0.133558 -0.021053  149.62      0  \n",
              "1  0.125895 -0.008983  0.014724    2.69      0  \n",
              "2 -0.139097 -0.055353 -0.059752  378.66      0  \n",
              "3 -0.221929  0.062723  0.061458  123.50      0  \n",
              "4  0.502292  0.219422  0.215153   69.99      0  \n",
              "\n",
              "[5 rows x 31 columns]"
            ]
          },
          "execution_count": 4,
          "metadata": {},
          "output_type": "execute_result"
        }
      ],
      "source": [
        "data = pd.read_csv(\"creditcard.csv\",sep=',')\n",
        "data.head()"
      ]
    },
    {
      "cell_type": "code",
      "execution_count": 4,
      "metadata": {
        "colab": {
          "base_uri": "https://localhost:8080/"
        },
        "id": "DUDOarFX33Tv",
        "outputId": "b2a5933a-78bc-4481-b8e6-9dde0979c44c"
      },
      "outputs": [
        {
          "name": "stdout",
          "output_type": "stream",
          "text": [
            "<class 'pandas.core.frame.DataFrame'>\n",
            "RangeIndex: 284807 entries, 0 to 284806\n",
            "Data columns (total 31 columns):\n",
            " #   Column  Non-Null Count   Dtype  \n",
            "---  ------  --------------   -----  \n",
            " 0   Time    284807 non-null  float64\n",
            " 1   V1      284807 non-null  float64\n",
            " 2   V2      284807 non-null  float64\n",
            " 3   V3      284807 non-null  float64\n",
            " 4   V4      284807 non-null  float64\n",
            " 5   V5      284807 non-null  float64\n",
            " 6   V6      284807 non-null  float64\n",
            " 7   V7      284807 non-null  float64\n",
            " 8   V8      284807 non-null  float64\n",
            " 9   V9      284807 non-null  float64\n",
            " 10  V10     284807 non-null  float64\n",
            " 11  V11     284807 non-null  float64\n",
            " 12  V12     284807 non-null  float64\n",
            " 13  V13     284807 non-null  float64\n",
            " 14  V14     284807 non-null  float64\n",
            " 15  V15     284807 non-null  float64\n",
            " 16  V16     284807 non-null  float64\n",
            " 17  V17     284807 non-null  float64\n",
            " 18  V18     284807 non-null  float64\n",
            " 19  V19     284807 non-null  float64\n",
            " 20  V20     284807 non-null  float64\n",
            " 21  V21     284807 non-null  float64\n",
            " 22  V22     284807 non-null  float64\n",
            " 23  V23     284807 non-null  float64\n",
            " 24  V24     284807 non-null  float64\n",
            " 25  V25     284807 non-null  float64\n",
            " 26  V26     284807 non-null  float64\n",
            " 27  V27     284807 non-null  float64\n",
            " 28  V28     284807 non-null  float64\n",
            " 29  Amount  284807 non-null  float64\n",
            " 30  Class   284807 non-null  int64  \n",
            "dtypes: float64(30), int64(1)\n",
            "memory usage: 67.4 MB\n"
          ]
        }
      ],
      "source": [
        "data.info()"
      ]
    },
    {
      "cell_type": "code",
      "execution_count": 5,
      "metadata": {
        "id": "h401tFxR4ERr"
      },
      "outputs": [],
      "source": [
        "def estimateGaussian(dataset):\n",
        "    mu = np.mean(dataset, axis=0)\n",
        "    sigma = np.cov(dataset.T)\n",
        "    return mu, sigma\n",
        "\n",
        "def multivariateGaussian(dataset,mu,sigma):\n",
        "    p = multivariate_normal(mean=mu, cov=sigma)\n",
        "    return p.pdf(dataset)"
      ]
    },
    {
      "cell_type": "code",
      "execution_count": 6,
      "metadata": {
        "id": "FCTsrgpL6DEU"
      },
      "outputs": [],
      "source": [
        "def selectThresholdByCV(p_cv,gt):\n",
        "    best_epsilon = 0\n",
        "    best_f1 = 0\n",
        "    f = 0\n",
        "    farray = []\n",
        "    Recallarray = []\n",
        "    Precisionarray = []\n",
        "    epsilons = (0.0000e+00, 1.0527717316e-70, 1.0527717316e-50, 1.0527717316e-24)\n",
        "    #epsilons = np.asarray(epsilons)\n",
        "    for epsilon in epsilons:\n",
        "        predictions = (p_cv < epsilon)\n",
        "        f = f1_score(train_cv_y, predictions, average = \"binary\")\n",
        "        Recall = recall_score(train_cv_y, predictions, average = \"binary\")\n",
        "        Precision = precision_score(train_cv_y, predictions, average = \"binary\")\n",
        "        farray.append(f)\n",
        "        Recallarray.append(Recall)\n",
        "        Precisionarray.append(Precision)\n",
        "        print ('For below Epsilon')\n",
        "        print(epsilon)\n",
        "        print ('F1 score , Recall and Precision are as below')\n",
        "        print ('Best F1 Score %f' %f)\n",
        "        print ('Best Recall Score %f' %Recall)\n",
        "        print ('Best Precision Score %f' %Precision)\n",
        "        print ('-'*40)\n",
        "        if f > best_f1:\n",
        "            best_f1 = f\n",
        "            best_recall = Recall\n",
        "            best_precision = Precision\n",
        "            best_epsilon = epsilon    \n",
        "    fig = plt.figure()\n",
        "    ax = fig.add_axes([0.1, 0.5, 0.7, 0.3])\n",
        "    #plt.subplot(3,1,1)\n",
        "    plt.plot(farray ,\"ro\")\n",
        "    plt.plot(farray)\n",
        "    ax.set_xticks(range(5))\n",
        "    ax.set_xticklabels(epsilons,rotation = 60 ,fontsize = 'medium' )\n",
        "    ax.set_ylim((0,1.0))\n",
        "    ax.set_title('F1 score vs Epsilon value')\n",
        "    ax.annotate('Best F1 Score', xy=(best_epsilon,best_f1), xytext=(best_epsilon,best_f1))\n",
        "    plt.xlabel(\"Epsilon value\") \n",
        "    plt.ylabel(\"F1 Score\") \n",
        "    plt.show()\n",
        "    fig = plt.figure()\n",
        "    ax = fig.add_axes([0.1, 0.5, 0.9, 0.3])\n",
        "    #plt.subplot(3,1,2)\n",
        "    plt.plot(Recallarray ,\"ro\")\n",
        "    plt.plot(Recallarray)\n",
        "    ax.set_xticks(range(5))\n",
        "    ax.set_xticklabels(epsilons,rotation = 60 ,fontsize = 'medium' )\n",
        "    ax.set_ylim((0,1.0))\n",
        "    ax.set_title('Recall vs Epsilon value')\n",
        "    ax.annotate('Best Recall Score', xy=(best_epsilon,best_recall), xytext=(best_epsilon,best_recall))\n",
        "    plt.xlabel(\"Epsilon value\") \n",
        "    plt.ylabel(\"Recall Score\") \n",
        "    plt.show()\n",
        "    fig = plt.figure()\n",
        "    ax = fig.add_axes([0.1, 0.5, 0.9, 0.3])\n",
        "    #plt.subplot(3,1,3)\n",
        "    plt.plot(Precisionarray ,\"ro\")\n",
        "    plt.plot(Precisionarray)\n",
        "    ax.set_xticks(range(5))\n",
        "    ax.set_xticklabels(epsilons,rotation = 60 ,fontsize = 'medium' )\n",
        "    ax.set_ylim((0,1.0))\n",
        "    ax.set_title('Precision vs Epsilon value')\n",
        "    ax.annotate('Best Precision Score', xy=(best_epsilon,best_precision), xytext=(best_epsilon,best_precision))\n",
        "    plt.xlabel(\"Epsilon value\") \n",
        "    plt.ylabel(\"Precision Score\") \n",
        "    plt.show()\n",
        "    return best_f1, best_epsilon"
      ]
    },
    {
      "cell_type": "code",
      "execution_count": 7,
      "metadata": {
        "id": "9jM3t3mc6vXz"
      },
      "outputs": [],
      "source": [
        "data.drop(['V19','V21','V1','V2','V6','V5','V28','V27','V26','V25','V24','V23','V22','V20','V15','V13','V8'],axis=1,inplace=True)"
      ]
    },
    {
      "cell_type": "code",
      "execution_count": 8,
      "metadata": {
        "colab": {
          "base_uri": "https://localhost:8080/"
        },
        "id": "n9yj9rYM7Fuq",
        "outputId": "483795ab-919b-42b1-cb3e-c15a96b22e77"
      },
      "outputs": [
        {
          "name": "stdout",
          "output_type": "stream",
          "text": [
            "<class 'pandas.core.frame.DataFrame'>\n",
            "RangeIndex: 284807 entries, 0 to 284806\n",
            "Data columns (total 14 columns):\n",
            " #   Column  Non-Null Count   Dtype  \n",
            "---  ------  --------------   -----  \n",
            " 0   Time    284807 non-null  float64\n",
            " 1   V3      284807 non-null  float64\n",
            " 2   V4      284807 non-null  float64\n",
            " 3   V7      284807 non-null  float64\n",
            " 4   V9      284807 non-null  float64\n",
            " 5   V10     284807 non-null  float64\n",
            " 6   V11     284807 non-null  float64\n",
            " 7   V12     284807 non-null  float64\n",
            " 8   V14     284807 non-null  float64\n",
            " 9   V16     284807 non-null  float64\n",
            " 10  V17     284807 non-null  float64\n",
            " 11  V18     284807 non-null  float64\n",
            " 12  Amount  284807 non-null  float64\n",
            " 13  Class   284807 non-null  int64  \n",
            "dtypes: float64(13), int64(1)\n",
            "memory usage: 30.4 MB\n"
          ]
        }
      ],
      "source": [
        "data.info()"
      ]
    },
    {
      "cell_type": "code",
      "execution_count": 9,
      "metadata": {
        "id": "K830vrYH7Qwx"
      },
      "outputs": [],
      "source": [
        "data.drop(labels = [\"Amount\",\"Time\"], axis = 1, inplace = True)"
      ]
    },
    {
      "cell_type": "code",
      "execution_count": 10,
      "metadata": {
        "colab": {
          "base_uri": "https://localhost:8080/"
        },
        "id": "dNS3Y90p7UoI",
        "outputId": "608ecddc-0b84-4498-a28d-fc381599f897"
      },
      "outputs": [
        {
          "name": "stdout",
          "output_type": "stream",
          "text": [
            "<class 'pandas.core.frame.DataFrame'>\n",
            "RangeIndex: 284807 entries, 0 to 284806\n",
            "Data columns (total 12 columns):\n",
            " #   Column  Non-Null Count   Dtype  \n",
            "---  ------  --------------   -----  \n",
            " 0   V3      284807 non-null  float64\n",
            " 1   V4      284807 non-null  float64\n",
            " 2   V7      284807 non-null  float64\n",
            " 3   V9      284807 non-null  float64\n",
            " 4   V10     284807 non-null  float64\n",
            " 5   V11     284807 non-null  float64\n",
            " 6   V12     284807 non-null  float64\n",
            " 7   V14     284807 non-null  float64\n",
            " 8   V16     284807 non-null  float64\n",
            " 9   V17     284807 non-null  float64\n",
            " 10  V18     284807 non-null  float64\n",
            " 11  Class   284807 non-null  int64  \n",
            "dtypes: float64(11), int64(1)\n",
            "memory usage: 26.1 MB\n"
          ]
        }
      ],
      "source": [
        "data.info()"
      ]
    },
    {
      "cell_type": "code",
      "execution_count": 11,
      "metadata": {
        "id": "sGyhbWxe7gBX"
      },
      "outputs": [],
      "source": [
        "train_strip_v1 = data[data[\"Class\"] == 1]\n",
        "train_strip_v0 = data[data[\"Class\"] == 0]"
      ]
    },
    {
      "cell_type": "code",
      "execution_count": 12,
      "metadata": {
        "colab": {
          "base_uri": "https://localhost:8080/"
        },
        "id": "leTUdpvZ8C-P",
        "outputId": "d016082f-938e-4ed3-c268-5bc9af1e4335"
      },
      "outputs": [
        {
          "name": "stdout",
          "output_type": "stream",
          "text": [
            "['V3' 'V4' 'V7' 'V9' 'V10' 'V11' 'V12' 'V14' 'V16' 'V17' 'V18' 'Class']\n",
            "['V3' 'V4' 'V7' 'V9' 'V10' 'V11' 'V12' 'V14' 'V16' 'V17' 'V18' 'Class']\n",
            "['V3' 'V4' 'V7' 'V9' 'V10' 'V11' 'V12' 'V14' 'V16' 'V17' 'V18' 'Class']\n"
          ]
        },
        {
          "name": "stderr",
          "output_type": "stream",
          "text": [
            "/usr/local/lib/python3.7/dist-packages/pandas/core/frame.py:4913: SettingWithCopyWarning: \n",
            "A value is trying to be set on a copy of a slice from a DataFrame\n",
            "\n",
            "See the caveats in the documentation: https://pandas.pydata.org/pandas-docs/stable/user_guide/indexing.html#returning-a-view-versus-a-copy\n",
            "  errors=errors,\n"
          ]
        }
      ],
      "source": [
        "Normal_len = len (train_strip_v0)\n",
        "Anomolous_len = len (train_strip_v1)\n",
        "\n",
        "start_mid = Anomolous_len // 2\n",
        "start_midway = start_mid + 1\n",
        "\n",
        "train_cv_v1  = train_strip_v1 [: start_mid]\n",
        "train_test_v1 = train_strip_v1 [start_midway:Anomolous_len]\n",
        "\n",
        "start_mid = (Normal_len * 60) // 100\n",
        "start_midway = start_mid + 1\n",
        "\n",
        "cv_mid = (Normal_len * 80) // 100\n",
        "cv_midway = cv_mid + 1\n",
        "\n",
        "train_fraud = train_strip_v0 [:start_mid]\n",
        "train_cv    = train_strip_v0 [start_midway:cv_mid]\n",
        "train_test  = train_strip_v0 [cv_midway:Normal_len]\n",
        "\n",
        "train_cv = pd.concat([train_cv,train_cv_v1],axis=0)\n",
        "train_test = pd.concat([train_test,train_test_v1],axis=0)\n",
        "\n",
        "\n",
        "print(train_fraud.columns.values)\n",
        "print(train_cv.columns.values)\n",
        "print(train_test.columns.values)\n",
        "\n",
        "train_cv_y = train_cv[\"Class\"]\n",
        "train_test_y = train_test[\"Class\"]\n",
        "\n",
        "train_cv.drop(labels = [\"Class\"], axis = 1, inplace = True)\n",
        "train_fraud.drop(labels = [\"Class\"], axis = 1, inplace = True)\n",
        "train_test.drop(labels = [\"Class\"], axis = 1, inplace = True)"
      ]
    },
    {
      "cell_type": "code",
      "execution_count": 13,
      "metadata": {
        "id": "nb5a_jbN9H-2"
      },
      "outputs": [],
      "source": [
        "mu, sigma = estimateGaussian(train_fraud)\n",
        "p = multivariateGaussian(train_fraud,mu,sigma)\n",
        "p_cv = multivariateGaussian(train_cv,mu,sigma)\n",
        "p_test = multivariateGaussian(train_test,mu,sigma)"
      ]
    },
    {
      "cell_type": "code",
      "execution_count": 14,
      "metadata": {
        "colab": {
          "base_uri": "https://localhost:8080/",
          "height": 1000
        },
        "id": "mzNXiwR49L4e",
        "outputId": "de01610e-d404-4e6b-aa48-dfa92c19a553"
      },
      "outputs": [
        {
          "name": "stderr",
          "output_type": "stream",
          "text": [
            "/usr/local/lib/python3.7/dist-packages/sklearn/metrics/_classification.py:1318: UndefinedMetricWarning: Precision is ill-defined and being set to 0.0 due to no predicted samples. Use `zero_division` parameter to control this behavior.\n",
            "  _warn_prf(average, modifier, msg_start, len(result))\n"
          ]
        },
        {
          "name": "stdout",
          "output_type": "stream",
          "text": [
            "For below Epsilon\n",
            "0.0\n",
            "F1 score , Recall and Precision are as below\n",
            "Best F1 Score 0.000000\n",
            "Best Recall Score 0.000000\n",
            "Best Precision Score 0.000000\n",
            "----------------------------------------\n",
            "For below Epsilon\n",
            "1.0527717316e-70\n",
            "F1 score , Recall and Precision are as below\n",
            "Best F1 Score 0.829474\n",
            "Best Recall Score 0.800813\n",
            "Best Precision Score 0.860262\n",
            "----------------------------------------\n",
            "For below Epsilon\n",
            "1.0527717316e-50\n",
            "F1 score , Recall and Precision are as below\n",
            "Best F1 Score 0.769811\n",
            "Best Recall Score 0.829268\n",
            "Best Precision Score 0.718310\n",
            "----------------------------------------\n",
            "For below Epsilon\n",
            "1.0527717316e-24\n",
            "F1 score , Recall and Precision are as below\n",
            "Best F1 Score 0.489988\n",
            "Best Recall Score 0.845528\n",
            "Best Precision Score 0.344942\n",
            "----------------------------------------\n"
          ]
        },
        {
          "data": {
            "image/png": "[encoded data removed]",
            "text/plain": [
              "<Figure size 432x288 with 1 Axes>"
            ]
          },
          "metadata": {
            "needs_background": "light"
          },
          "output_type": "display_data"
        },
        {
          "data": {
            "image/png": "[encoded data removed]",
            "text/plain": [
              "<Figure size 432x288 with 1 Axes>"
            ]
          },
          "metadata": {
            "needs_background": "light"
          },
          "output_type": "display_data"
        },
        {
          "data": {
            "image/png": "[encoded data removed]",
            "text/plain": [
              "<Figure size 432x288 with 1 Axes>"
            ]
          },
          "metadata": {
            "needs_background": "light"
          },
          "output_type": "display_data"
        }
      ],
      "source": [
        "fscore, ep= selectThresholdByCV(p_cv,train_cv_y)"
      ]
    },
    {
      "cell_type": "code",
      "execution_count": 15,
      "metadata": {
        "colab": {
          "base_uri": "https://localhost:8080/"
        },
        "id": "lW1CGHq_9d09",
        "outputId": "b060cb99-bcaa-4c83-e374-1a1900130bb5"
      },
      "outputs": [
        {
          "name": "stdout",
          "output_type": "stream",
          "text": [
            "F1 score , Recall and Precision for Test dataset\n",
            "Best F1 Score 0.767816\n",
            "Best Recall Score 0.681633\n",
            "Best Precision Score 0.878947\n"
          ]
        }
      ],
      "source": [
        "predictions = (p_test < ep)\n",
        "Recall = recall_score(train_test_y, predictions, average = \"binary\")    \n",
        "Precision = precision_score(train_test_y, predictions, average = \"binary\")\n",
        "F1score = f1_score(train_test_y, predictions, average = \"binary\")    \n",
        "print ('F1 score , Recall and Precision for Test dataset')\n",
        "print ('Best F1 Score %f' %F1score)\n",
        "print ('Best Recall Score %f' %Recall)\n",
        "print ('Best Precision Score %f' %Precision)"
      ]
    },
    {
      "cell_type": "code",
      "execution_count": 16,
      "metadata": {
        "colab": {
          "base_uri": "https://localhost:8080/"
        },
        "id": "qn6aCTmH_N04",
        "outputId": "be1890d3-67b3-45c7-fe0c-ab1e163b672d"
      },
      "outputs": [
        {
          "name": "stdout",
          "output_type": "stream",
          "text": [
            "[False False False ... False  True False]\n"
          ]
        }
      ],
      "source": [
        "print(predictions)"
      ]
    },
    {
      "cell_type": "code",
      "execution_count": 17,
      "metadata": {
        "colab": {
          "base_uri": "https://localhost:8080/",
          "height": 607
        },
        "id": "iZaWN5jh9iW2",
        "outputId": "ce6160e2-3024-4d9a-bcbe-1732aa11d8cc"
      },
      "outputs": [
        {
          "data": {
            "image/png": "[encoded data removed]",
            "text/plain": [
              "<Figure size 720x720 with 1 Axes>"
            ]
          },
          "metadata": {
            "needs_background": "light"
          },
          "output_type": "display_data"
        }
      ],
      "source": [
        "fig, ax = plt.subplots(figsize=(10, 10))\n",
        "ax.scatter(train_test['V14'],train_test['V11'],marker=\"o\", color=\"lightBlue\")\n",
        "ax.set_title('Anomalies(in red) vs Predicted Anomalies(in Green)')\n",
        "for i, txt in enumerate(train_test['V14'].index):\n",
        "       if train_test_y.loc[txt] == 1 :\n",
        "            ax.annotate('*', (train_test['V14'].loc[txt],train_test['V11'].loc[txt]),fontsize=13,color='Red')\n",
        "       if predictions[i] == True :\n",
        "            ax.annotate('o', (train_test['V14'].loc[txt],train_test['V11'].loc[txt]),fontsize=15,color='Green')"
      ]
    },
    {
      "cell_type": "code",
      "execution_count": 18,
      "metadata": {
        "colab": {
          "base_uri": "https://localhost:8080/"
        },
        "id": "mKJt3-t79wGD",
        "outputId": "716fb727-550c-45b1-8fad-1b5d300699b2"
      },
      "outputs": [
        {
          "name": "stdout",
          "output_type": "stream",
          "text": [
            "F1 score , Recall and Precision for Cross Validation dataset\n",
            "Best F1 Score 0.829474\n",
            "Best Recall Score 0.800813\n",
            "Best Precision Score 0.860262\n"
          ]
        }
      ],
      "source": [
        "predictions = (p_cv < ep)\n",
        "Recall = recall_score(train_cv_y, predictions, average = \"binary\")    \n",
        "Precision = precision_score(train_cv_y, predictions, average = \"binary\")\n",
        "F1score = f1_score(train_cv_y, predictions, average = \"binary\")    \n",
        "print ('F1 score , Recall and Precision for Cross Validation dataset')\n",
        "print ('Best F1 Score %f' %F1score)\n",
        "print ('Best Recall Score %f' %Recall)\n",
        "print ('Best Precision Score %f' %Precision)\n"
      ]
    },
    {
      "cell_type": "code",
      "execution_count": 19,
      "metadata": {
        "colab": {
          "base_uri": "https://localhost:8080/"
        },
        "id": "wGY53fAmAMvW",
        "outputId": "5f3e02a0-fc6c-48c5-f00d-faccb5f5c28e"
      },
      "outputs": [
        {
          "name": "stdout",
          "output_type": "stream",
          "text": [
            "[0.5104878976927436, 0.10726751237075804, -0.06597896894433525, 0.02486667500272543, -0.015892024287892277, 0.1839426400556174, -0.08242157559256776, 0.09760795968403549, 0.0027448909460531974, 0.05924062888782901, -0.044862776009553566]\n"
          ]
        }
      ],
      "source": [
        "mu_list = list(mu)\n",
        "print(mu_list)"
      ]
    },
    {
      "cell_type": "code",
      "execution_count": 30,
      "metadata": {
        "id": "M5viqO4WAhcK"
      },
      "outputs": [],
      "source": [
        "sigma_list = []\n",
        "for sigma_row in sigma:\n",
        "  list1 = []\n",
        "  for sigma_row_element in sigma_row:\n",
        "    list1.append(sigma_row_element)\n",
        "  sigma_list.append(list1)"
      ]
    },
    {
      "cell_type": "code",
      "execution_count": 31,
      "metadata": {
        "colab": {
          "base_uri": "https://localhost:8080/"
        },
        "id": "rvSfy85DG9tf",
        "outputId": "01f996b0-c7c3-45a6-e26a-2b9c4d61564b"
      },
      "outputs": [
        {
          "name": "stdout",
          "output_type": "stream",
          "text": [
            "[[1.6315738595225007, 0.02969780578179036, 0.021125582785734003, -0.038732782253550584, -0.06320081454552562, -0.003341050761664314, 0.010500847663729124, -0.1394434810871321, -0.1439256060849544, -0.10751277622375148, -0.09204016605238273], [0.02969780578179036, 1.8194451167891945, 0.04289876830413793, 0.04169494936059093, 0.004416334834498522, -0.04906035712769383, 0.08011453349925772, 0.07671042037386683, -0.010551868628870082, 0.11439587400101368, 0.010351799146148038], [0.021125582785734003, 0.04289876830413793, 1.2321844295883917, -0.004619618699988002, -0.05318813789415452, 0.06513034693933856, -0.0857846429339284, -0.08472615233556996, -0.045377677780911535, -0.13468234383277583, -0.029481190926730756], [-0.038732782253550584, 0.04169494936059093, -0.004619618699988002, 1.297192977256955, -0.06989936822782654, 0.04053402086336947, -0.2158161052895833, 0.050017140126056306, -0.0824062645891581, 0.00828991143014992, -0.011272182777290562], [-0.06320081454552562, 0.004416334834498522, -0.05318813789415452, -0.06989936822782654, 1.055313219049395, 0.06808551309192701, -0.06747297470993807, -0.16401160953310331, -0.03403469733960567, -0.07775285256894751, -0.023020089209377426], [-0.003341050761664314, -0.04906035712769383, 0.06513034693933856, 0.04053402086336947, 0.06808551309192701, 1.0464978278447712, 0.010209219634374144, 0.11145650672707165, 0.025291951382257507, 0.06381415071071707, 0.018736612358449957], [0.010500847663729124, 0.08011453349925772, -0.0857846429339284, -0.2158161052895833, -0.06747297470993807, 0.010209219634374144, 1.1510171550376098, -0.22813881863308488, -0.0853004994670815, -0.13028856956897936, -0.08342080527789428], [-0.1394434810871321, 0.07671042037386683, -0.08472615233556996, 0.050017140126056306, -0.16401160953310331, 0.11145650672707165, -0.22813881863308488, 0.8036591150082855, 0.0048592012906042, -0.0328031741682117, 0.024697810090848458], [-0.1439256060849544, -0.010551868628870082, -0.045377677780911535, -0.0824062645891581, -0.03403469733960567, 0.025291951382257507, -0.0853004994670815, 0.0048592012906042, 0.6958894548726956, -0.11473801398984484, -0.013669447250403165], [-0.10751277622375148, 0.11439587400101368, -0.13468234383277583, 0.00828991143014992, -0.07775285256894751, 0.06381415071071707, -0.13028856956897936, -0.0328031741682117, -0.11473801398984484, 0.5806967765978739, -0.07770198614173679], [-0.09204016605238273, 0.010351799146148038, -0.029481190926730756, -0.011272182777290562, -0.023020089209377426, 0.018736612358449957, -0.08342080527789428, 0.024697810090848458, -0.013669447250403165, -0.07770198614173679, 0.6627760747761463]]\n"
          ]
        }
      ],
      "source": [
        "print(sigma_list)"
      ]
    },
    {
      "cell_type": "code",
      "execution_count": 21,
      "metadata": {
        "colab": {
          "base_uri": "https://localhost:8080/"
        },
        "id": "6Y8z__IKBhsZ",
        "outputId": "393e6b17-be5f-4459-a1cc-8c688f231b59"
      },
      "outputs": [
        {
          "name": "stdout",
          "output_type": "stream",
          "text": [
            "1.0527717316e-70\n"
          ]
        }
      ],
      "source": [
        "epsilon = ep\n",
        "print(epsilon)"
      ]
    },
    {
      "cell_type": "code",
      "execution_count": 33,
      "metadata": {
        "id": "5lcdrq47IwDJ"
      },
      "outputs": [],
      "source": [
        "sample_data = data.sample(1).to_numpy()"
      ]
    },
    {
      "cell_type": "code",
      "execution_count": 34,
      "metadata": {
        "colab": {
          "base_uri": "https://localhost:8080/"
        },
        "id": "ApHqPQdRI8o5",
        "outputId": "60b9abe2-e100-482b-88c7-3149b7a7aa44"
      },
      "outputs": [
        {
          "data": {
            "text/plain": [
              "array([[-4.32534151, -1.7372055 , -2.9806504 ,  2.10426904,  1.84638841,\n",
              "        -0.92496754,  1.03674368,  0.29918511,  1.82337038,  0.97785932,\n",
              "         1.45471159,  0.        ]])"
            ]
          },
          "execution_count": 34,
          "metadata": {},
          "output_type": "execute_result"
        }
      ],
      "source": [
        "sample_data"
      ]
    },
    {
      "cell_type": "code",
      "execution_count": 35,
      "metadata": {
        "id": "ptnaP8HPJN1S"
      },
      "outputs": [],
      "source": [
        "sample_list=[]\n",
        "for sample_row in sample_data:\n",
        "  sample_list_inner = []\n",
        "  for sample_row_element in sample_row:\n",
        "    sample_list_inner.append(sample_row_element)\n",
        "  sample_list.append(sample_list_inner)"
      ]
    },
    {
      "cell_type": "code",
      "execution_count": 36,
      "metadata": {
        "colab": {
          "base_uri": "https://localhost:8080/"
        },
        "id": "CU7v1JBlJ0h9",
        "outputId": "1a90dcc3-3d04-4481-a27f-3cdd36fc1cfd"
      },
      "outputs": [
        {
          "data": {
            "text/plain": [
              "[[-4.32534151249494,\n",
              "  -1.7372054992609,\n",
              "  -2.98065040276283,\n",
              "  2.10426904264972,\n",
              "  1.84638841257164,\n",
              "  -0.924967539453603,\n",
              "  1.03674367779061,\n",
              "  0.299185110890814,\n",
              "  1.82337037774654,\n",
              "  0.977859323115455,\n",
              "  1.45471158817804,\n",
              "  0.0]]"
            ]
          },
          "execution_count": 36,
          "metadata": {},
          "output_type": "execute_result"
        }
      ],
      "source": [
        "sample_list"
      ]
    }
  ],
  "metadata": {
    "colab": {
      "collapsed_sections": [],
      "provenance": []
    },
    "kernelspec": {
      "display_name": "Python 3.10.7 64-bit (microsoft store)",
      "language": "python",
      "name": "python3"
    },
    "language_info": {
      "codemirror_mode": {
        "name": "ipython",
        "version": 3
      },
      "file_extension": ".py",
      "mimetype": "text/x-python",
      "name": "python",
      "nbconvert_exporter": "python",
      "pygments_lexer": "ipython3",
      "version": "3.10.7"
    },
    "vscode": {
      "interpreter": {
        "hash": "6e179222c9e97f8f351d5b1ed5fd1081f104ab9b558fcaed0ae8aeb95f3700ad"
      }
    }
  },
  "nbformat": 4,
  "nbformat_minor": 0
}
